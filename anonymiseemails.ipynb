{
 "cells": [
  {
   "cell_type": "markdown",
   "metadata": {},
   "source": [
    "# Anonymise emails\n",
    "\n",
    "Find emails in a spreadsheet and strip the part before the @ symbol\n",
    "\n",
    "You may need to install openpyxl to enable the ExcelWriter functionality"
   ]
  },
  {
   "cell_type": "code",
   "execution_count": 1,
   "metadata": {},
   "outputs": [],
   "source": [
    "import pandas as pd\n",
    "from pandas import ExcelWriter"
   ]
  },
  {
   "cell_type": "code",
   "execution_count": 2,
   "metadata": {},
   "outputs": [],
   "source": [
    "excel_file = 'attendees.xlsx'\n",
    "attendees = pd.read_excel(excel_file)\n",
    "\n",
    "writer = ExcelWriter('cleaned_attendees.xlsx')"
   ]
  },
  {
   "cell_type": "code",
   "execution_count": 3,
   "metadata": {},
   "outputs": [
    {
     "data": {
      "text/html": [
       "<div>\n",
       "<style>\n",
       "    .dataframe thead tr:only-child th {\n",
       "        text-align: right;\n",
       "    }\n",
       "\n",
       "    .dataframe thead th {\n",
       "        text-align: left;\n",
       "    }\n",
       "\n",
       "    .dataframe tbody tr th {\n",
       "        vertical-align: top;\n",
       "    }\n",
       "</style>\n",
       "<table border=\"1\" class=\"dataframe\">\n",
       "  <thead>\n",
       "    <tr style=\"text-align: right;\">\n",
       "      <th></th>\n",
       "      <th>ID</th>\n",
       "      <th>First Name</th>\n",
       "      <th>Surname</th>\n",
       "      <th>Email</th>\n",
       "      <th>Organisation</th>\n",
       "    </tr>\n",
       "  </thead>\n",
       "  <tbody>\n",
       "    <tr>\n",
       "      <th>0</th>\n",
       "      <td>1</td>\n",
       "      <td>Arthur</td>\n",
       "      <td>Smith</td>\n",
       "      <td>arthur.smith@example.ac.uk</td>\n",
       "      <td>University of Example</td>\n",
       "    </tr>\n",
       "    <tr>\n",
       "      <th>1</th>\n",
       "      <td>2</td>\n",
       "      <td>Betty Bridget</td>\n",
       "      <td>Jones</td>\n",
       "      <td>bbjones@somewhere.ac.uk</td>\n",
       "      <td>Somewhere College</td>\n",
       "    </tr>\n",
       "    <tr>\n",
       "      <th>2</th>\n",
       "      <td>3</td>\n",
       "      <td>Clive</td>\n",
       "      <td>McDonald</td>\n",
       "      <td>cmcd@ghotmail.con</td>\n",
       "      <td>NaN</td>\n",
       "    </tr>\n",
       "    <tr>\n",
       "      <th>3</th>\n",
       "      <td>4</td>\n",
       "      <td>Daphne</td>\n",
       "      <td>Wilson-Brown</td>\n",
       "      <td>s23292223@where.ac.uk</td>\n",
       "      <td>Where</td>\n",
       "    </tr>\n",
       "    <tr>\n",
       "      <th>4</th>\n",
       "      <td>5</td>\n",
       "      <td>Eric</td>\n",
       "      <td>Taylor Davies</td>\n",
       "      <td>EricTaylorDavies\"difficult.email</td>\n",
       "      <td>NaN</td>\n",
       "    </tr>\n",
       "  </tbody>\n",
       "</table>\n",
       "</div>"
      ],
      "text/plain": [
       "   ID     First Name        Surname                             Email  \\\n",
       "0   1         Arthur          Smith        arthur.smith@example.ac.uk   \n",
       "1   2  Betty Bridget          Jones           bbjones@somewhere.ac.uk   \n",
       "2   3          Clive       McDonald                 cmcd@ghotmail.con   \n",
       "3   4         Daphne   Wilson-Brown             s23292223@where.ac.uk   \n",
       "4   5           Eric  Taylor Davies  EricTaylorDavies\"difficult.email   \n",
       "\n",
       "            Organisation  \n",
       "0  University of Example  \n",
       "1      Somewhere College  \n",
       "2                    NaN  \n",
       "3                 Where   \n",
       "4                    NaN  "
      ]
     },
     "execution_count": 3,
     "metadata": {},
     "output_type": "execute_result"
    }
   ],
   "source": [
    "attendees.head()"
   ]
  },
  {
   "cell_type": "code",
   "execution_count": 4,
   "metadata": {},
   "outputs": [],
   "source": [
    "attendees['Email'] = '...@' + attendees['Email'].str.split('@').str[1]"
   ]
  },
  {
   "cell_type": "code",
   "execution_count": 5,
   "metadata": {},
   "outputs": [
    {
     "data": {
      "text/html": [
       "<div>\n",
       "<style>\n",
       "    .dataframe thead tr:only-child th {\n",
       "        text-align: right;\n",
       "    }\n",
       "\n",
       "    .dataframe thead th {\n",
       "        text-align: left;\n",
       "    }\n",
       "\n",
       "    .dataframe tbody tr th {\n",
       "        vertical-align: top;\n",
       "    }\n",
       "</style>\n",
       "<table border=\"1\" class=\"dataframe\">\n",
       "  <thead>\n",
       "    <tr style=\"text-align: right;\">\n",
       "      <th></th>\n",
       "      <th>ID</th>\n",
       "      <th>First Name</th>\n",
       "      <th>Surname</th>\n",
       "      <th>Email</th>\n",
       "      <th>Organisation</th>\n",
       "    </tr>\n",
       "  </thead>\n",
       "  <tbody>\n",
       "    <tr>\n",
       "      <th>0</th>\n",
       "      <td>1</td>\n",
       "      <td>Arthur</td>\n",
       "      <td>Smith</td>\n",
       "      <td>...@example.ac.uk</td>\n",
       "      <td>University of Example</td>\n",
       "    </tr>\n",
       "    <tr>\n",
       "      <th>1</th>\n",
       "      <td>2</td>\n",
       "      <td>Betty Bridget</td>\n",
       "      <td>Jones</td>\n",
       "      <td>...@somewhere.ac.uk</td>\n",
       "      <td>Somewhere College</td>\n",
       "    </tr>\n",
       "    <tr>\n",
       "      <th>2</th>\n",
       "      <td>3</td>\n",
       "      <td>Clive</td>\n",
       "      <td>McDonald</td>\n",
       "      <td>...@ghotmail.con</td>\n",
       "      <td>NaN</td>\n",
       "    </tr>\n",
       "    <tr>\n",
       "      <th>3</th>\n",
       "      <td>4</td>\n",
       "      <td>Daphne</td>\n",
       "      <td>Wilson-Brown</td>\n",
       "      <td>...@where.ac.uk</td>\n",
       "      <td>Where</td>\n",
       "    </tr>\n",
       "    <tr>\n",
       "      <th>4</th>\n",
       "      <td>5</td>\n",
       "      <td>Eric</td>\n",
       "      <td>Taylor Davies</td>\n",
       "      <td>NaN</td>\n",
       "      <td>NaN</td>\n",
       "    </tr>\n",
       "  </tbody>\n",
       "</table>\n",
       "</div>"
      ],
      "text/plain": [
       "   ID     First Name        Surname                Email  \\\n",
       "0   1         Arthur          Smith    ...@example.ac.uk   \n",
       "1   2  Betty Bridget          Jones  ...@somewhere.ac.uk   \n",
       "2   3          Clive       McDonald     ...@ghotmail.con   \n",
       "3   4         Daphne   Wilson-Brown      ...@where.ac.uk   \n",
       "4   5           Eric  Taylor Davies                  NaN   \n",
       "\n",
       "            Organisation  \n",
       "0  University of Example  \n",
       "1      Somewhere College  \n",
       "2                    NaN  \n",
       "3                 Where   \n",
       "4                    NaN  "
      ]
     },
     "execution_count": 5,
     "metadata": {},
     "output_type": "execute_result"
    }
   ],
   "source": [
    "attendees.head()"
   ]
  },
  {
   "cell_type": "code",
   "execution_count": 7,
   "metadata": {},
   "outputs": [],
   "source": [
    "attendees.to_excel(writer, sheet_name='Sheet1')\n",
    "writer.save()"
   ]
  }
 ],
 "metadata": {
  "kernelspec": {
   "display_name": "Python 3",
   "language": "python",
   "name": "python3"
  },
  "language_info": {
   "codemirror_mode": {
    "name": "ipython",
    "version": 3
   },
   "file_extension": ".py",
   "mimetype": "text/x-python",
   "name": "python",
   "nbconvert_exporter": "python",
   "pygments_lexer": "ipython3",
   "version": "3.5.5"
  }
 },
 "nbformat": 4,
 "nbformat_minor": 2
}
